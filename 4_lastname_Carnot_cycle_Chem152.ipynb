{
  "nbformat": 4,
  "nbformat_minor": 0,
  "metadata": {
    "kernelspec": {
      "display_name": "Python 3",
      "language": "python",
      "name": "python3"
    },
    "language_info": {
      "codemirror_mode": {
        "name": "ipython",
        "version": 3
      },
      "file_extension": ".py",
      "mimetype": "text/x-python",
      "name": "python",
      "nbconvert_exporter": "python",
      "pygments_lexer": "ipython3",
      "version": "3.6.1"
    },
    "colab": {
      "name": "4-lastname_Carnot_cycle_Chem152.ipynb",
      "provenance": [],
      "collapsed_sections": []
    }
  },
  "cells": [
    {
      "cell_type": "markdown",
      "metadata": {
        "id": "R4bSMFpN2_U8"
      },
      "source": [
        "# The Carnot Cycle\n",
        "\n",
        "### Computational Guided Inquiry for Physical Chemistry \n",
        "Written by Dr. Steven Neshyba (University of Puget Sound) and Dr. Timothy Guasco (Millikin University)\n",
        "<br><i>Adapted for Chem 152 at Santa Clara University by Dr. Grace Stokes</i>\n",
        "\n",
        "## Learning Objectives: \n",
        "\n",
        "1. Use Python graphics to visualize a Carnot Cycle.\n",
        "2. Become familiar with cyclic processes and their practical applications.\n",
        "3. Be able to sketch a PV indicator diagram corresponding to a Carnot cycle and identify/label each step, and calculate the maximum theoretical efficiency of this heat engine.\n",
        "5. Define the terms <i>Carnot heat engine</i>, _Carnot cycle_, _indicator diagram_, _closed thermodynamic cycle_, _adiabat_, _isotherm_, _engine efficiency_.\n"
      ]
    },
    {
      "cell_type": "markdown",
      "metadata": {
        "id": "zIW_0mpZ2_VC"
      },
      "source": [
        "## 1. Introduction\n",
        "\n",
        "The purpose of any heat engine is to generate a useable form of energy (such as electricity) from the heat extracted from a hot reservoir (such as a furnace). A _Carnot heat engine_ is a theoretical heat engine in which one imagines taking an ideal gas through a sequence of reversible expansions and contractions of an ideal gas that ends up with the gas in the exact same state it started in. This sequence is called a _Carnot cycle_, and is often depicted in an _indicator diagram_ such as on this webpage: http://webspace.pugetsound.edu/facultypages/nesh/Notebook/cycle1.png\n",
        "\n",
        "The upper curve of the cycle (from point A to B) is the isothermal heat extraction leg that gets the engine started: during this leg, the gas is in thermal contact with the hot reservoir and extracts heat from it. Subsequent legs of the cycle trace out a clockwise closed loop in this diagram, as indicated by the arrows. The cycle is called a _closed thermodynamic cycle_ because the gas returns to its initial state at the end. "
      ]
    },
    {
      "cell_type": "markdown",
      "metadata": {
        "id": "j7QlC0L52_VD"
      },
      "source": [
        "Although a theoretical construct (because ideal gases are not real), Carnot heat engines let us derive some pretty fundamental theoretical results about the maximum efficiency with which similar processes occur in real life, such as in power plants.\n",
        "\n",
        "The idea of this exercise is that you'll gain insight into the formulas for isothermal and adiabatic reversible changes in an ideal gas, by generating a numerical representation of the Carnot cycle. You will also gain some practice at numerical integrate, by numerically finding the work generated or consumed at each leg. That, in turn, will allow you to test the fundamental theoretical results mentioned above."
      ]
    },
    {
      "cell_type": "markdown",
      "metadata": {
        "id": "75l-JeTA2_VD"
      },
      "source": [
        "## 1a. Obtaining a numerical representation of the Carnot cycle_  \n",
        "The key insight in this is understanding how pressure changes as a function of volume. During isothermal reversible expansion or compression, all you need is the ideal gas law, \n",
        "\n",
        "<p style='text-align: right;'>\n",
        "$P = {nRT \\over V}$\n",
        "$\\qquad\\qquad\\qquad\\qquad\\qquad\\qquad\\qquad\\qquad\\qquad\\qquad  (1) $\n",
        "</p>\n",
        "\n",
        "For example, suppose we start at point A on the hot isotherm (red solid line), and we want to compute the pressure over a range of volumes, all for the same temperature. We could call the temperature of this isotherm $T_{hot}$, and then use $P={nRT_{hot} \\over V}$ to calculate the pressure over a range of volumes. That's the first leg of our Carnot cycle."
      ]
    },
    {
      "cell_type": "markdown",
      "metadata": {
        "id": "Z9QNH0No2_VD"
      },
      "source": [
        "The second leg of the cycle (black dashed line) is an adiabatic reversible expansion, a.k.a. an _adiabat_. We'd like to calculate the pressure of this adiabat as volume increases (and the temperature drops). Fortunately, we have an equation for that too! The temperature depends, not surprisingly, on the heat capacity of the gas. Here it will be convenient to define a _reduced_ heat capacity (_c_), \n",
        "\n",
        "<p style='text-align: right;'>\n",
        "$c = {C_V \\over {nR}} $\n",
        "$\\qquad\\qquad\\qquad\\qquad\\qquad\\qquad\\qquad\\qquad\\qquad\\qquad  (2) $\n",
        "</p>\n",
        "\n",
        "from which we can define the $\\gamma$ parameter (it doesn't seem to have a name),"
      ]
    },
    {
      "cell_type": "markdown",
      "metadata": {
        "id": "oh_6Cwcx2_VE"
      },
      "source": [
        "<p style='text-align: right;'>\n",
        "$\\gamma = 1 + 1/c$ \n",
        "$\\qquad\\qquad\\qquad\\qquad\\qquad\\qquad\\qquad\\qquad\\qquad\\qquad (3) $\n",
        "</p>\n",
        "\n",
        "Using the $\\gamma$ parameter, the pressure of a gas during an adiabatic reversible expansion can be compactly expressed as\n",
        "\n",
        "<p style='text-align: right;'>\n",
        "$P = {P_{ref} ({V_{ref} \\over V})^\\gamma } $\n",
        "$\\qquad\\qquad\\qquad\\qquad\\qquad\\qquad\\qquad\\qquad\\qquad\\qquad  (4) $\n",
        "</p>\n",
        "\n",
        "So, if we take $P_{ref}$ and $V_{ref}$ to be some point on the hot isotherm (like point B), Eq. 4 lets us calculate points along an _adiabat_ that crosses the isotherm at that point. "
      ]
    },
    {
      "cell_type": "markdown",
      "metadata": {
        "id": "gzk_5n0R2_VE"
      },
      "source": [
        "The third leg of the Carnot cycle is an isothermal reversible compression. The physical idea here is that the gas is compressed while in thermal contact with a cold reservoir, like a body of water. Heat generated by this compression will be soaked up by the cold reservoir. Points on this isotherm can be calculated by Eq. 1 again, only using $P={nRT_{cold} \\over V}$ "
      ]
    },
    {
      "cell_type": "markdown",
      "metadata": {
        "id": "2JFtO00E2_VE"
      },
      "source": [
        "Finally, we have the fourth leg of the Carnot cycle. Equation 4 is good for this again, provided $P_{ref}$ and $V_{ref}$ specify a point on the cold isotherm (e.g., point D).  "
      ]
    },
    {
      "cell_type": "markdown",
      "metadata": {
        "id": "NxzsHsRs2_VE"
      },
      "source": [
        "## 1b. Numerical analysis \n",
        "Once you have a set of points $P(V)$ for the Carnot cycle, you can obtain some properties of the cycle using numerical methods. One is that the volumes of the four corners of the Carnot cycle are supposed to obey a _proportionality relationship_,\n",
        "\n",
        "<p style='text-align: right;'>\n",
        "$V_B/V_A = V_C/V_D$\n",
        "$\\qquad\\qquad\\qquad\\qquad\\qquad\\qquad\\qquad\\qquad\\qquad\\qquad  (5) $\n",
        "</p>\n",
        "\n",
        "You'll be able to examine your numerically-obtained volumes to see whether they satisfy this proportionality.  \n",
        "\n",
        "Another important property is the work done during each leg. You can get the work numerically by using the trapezoidal rule to integrate\n",
        "\n",
        "<p style='text-align: right;'>\n",
        "$w = -\\int P dV \\space$ (each leg)\n",
        "$\\qquad\\qquad\\qquad\\qquad\\qquad\\qquad\\qquad\\qquad\\qquad\\qquad  (6) $\n",
        "</p>\n",
        "\n",
        "where the integration limits are the endpoints of each leg. Equation 6 is supposed to have $P_{ex}$ as the integrand, but since the Carnot cycle is a quasistatic or reversible process, $P_{ex}$ is never very different from the gas' pressure, $P$. Equation also 6 says that expansions (legs 1 and 2) should have $w<0$, while compressions (legs 3 and 4) should have $w>0$. You'll be able to compare that prediction to your numerically-obtained values. "
      ]
    },
    {
      "cell_type": "markdown",
      "metadata": {
        "id": "8tvBHJkZ2_VE"
      },
      "source": [
        "It'll also be useful to calculate the total work done in one complete Carnot cycle, \n",
        "\n",
        "<p style='text-align: right;'>\n",
        "$w_{tot} = w_1+w_2+w_3+w_4$ \n",
        "$\\qquad\\qquad\\qquad\\qquad\\qquad\\qquad\\qquad\\qquad\\qquad\\qquad  (7) $\n",
        "</p>\n",
        "\n",
        "The whole idea of a heat engine is that cycle will \"do work\" on the surroundings, like turn a turbine to make electricity. So if this is a heat engine, it better be that $w_{tot}<0$. You'll want to verify that.  \n",
        "\n",
        "We can numerically estimate the heat extracted from the hot reservoir from the work during that leg,\n",
        "\n",
        "<p style='text-align: right;'>\n",
        "$q_{hot} = -w_1 $\n",
        "$\\qquad\\qquad\\qquad\\qquad\\qquad\\qquad\\qquad\\qquad\\qquad\\qquad (8) $  \n",
        "</p>"
      ]
    },
    {
      "cell_type": "markdown",
      "metadata": {
        "id": "m2rYBgeC2_VF"
      },
      "source": [
        "You can use the above results to calculate the _engine efficiency_ of your engine. By definition, this is the ratio of the work you get out of the engine, to the heat extracted from the hot reservoir,\n",
        "\n",
        "<p style='text-align: right;'>\n",
        "$\\varepsilon = -w_{tot}/q_{hot}$ \n",
        "$\\qquad\\qquad\\qquad\\qquad\\qquad\\qquad\\qquad\\qquad\\qquad\\qquad  (9) $\n",
        "</p>\n",
        "\n",
        "where the negative sign is there so that $\\varepsilon$ is a positive number. "
      ]
    },
    {
      "cell_type": "markdown",
      "metadata": {
        "id": "RPunLqF02_VF"
      },
      "source": [
        "_Theoretical analysis_  \n",
        "Now for some theory. The heat extracted from the hot reservoir can be shown to be given by\n",
        "\n",
        "<p style='text-align: right;'>\n",
        "$q_{hot} = nRT_{hot} \\ ln(V_B/V_A)$ \n",
        "$\\qquad\\qquad\\qquad\\qquad\\qquad\\qquad\\qquad\\qquad\\qquad\\qquad  (10) $\n",
        "</p>\n",
        "\n",
        "This value can be compared to your numerical result, Eq. 8. Theory also predicts that the efficiency of the Carnot engine will be given by\n",
        "\n",
        "<p style='text-align: right;'>\n",
        "$\\varepsilon = {T_{hot}-T_{cold} \\over T_{hot}}$ \n",
        "$\\qquad\\qquad\\qquad\\qquad\\qquad\\qquad\\qquad\\qquad\\qquad\\qquad (11) $\n",
        "</p>\n",
        "\n",
        "which can be compared to your numerical result, Eq. 9. Equation 11 should be thought of as a theoretical maximum. Designers of real heat engines, from power plants to automobiles, can hope to approach this value using sound engineering, but they cannot exceed it. That's the power of thermodyanmics!"
      ]
    },
    {
      "cell_type": "markdown",
      "metadata": {
        "id": "6WtGKsRK2_VG"
      },
      "source": [
        "## 2. Import libraries  \n",
        "\n",
        "As you did before, you need to first import various libraries. In the cell immediately below, you will need to execute this cell with shift-enter or by left-clicking the \"play button\" to the left. This command installs plotly, a library that can be used for making graphs that can be easier to interact with (pan, zoom, etc.)."
      ]
    },
    {
      "cell_type": "code",
      "metadata": {
        "id": "Ikjv1hv07Zii"
      },
      "source": [
        "pip install plotly"
      ],
      "execution_count": null,
      "outputs": []
    },
    {
      "cell_type": "code",
      "metadata": {
        "collapsed": true,
        "id": "Dve39h6c2_VG"
      },
      "source": [
        "# Execute this cell with shift-enter or by left-clicking the \"play button\" to the left. \n",
        "# This cell imports various libraries and packages that we will need\n",
        "# numpy is used for numerical operations\n",
        "import numpy as np\n",
        "\n",
        "# like plotly, matplotlib.pyplot is used to make simple 2-D plots.\n",
        "import matplotlib.pyplot as plt\n",
        "\n",
        "# This command makes 3-d plots using matplotlib but in google colaboratory, we are unable to zoom and re-size or interact with these 3-d plots.\n",
        "from mpl_toolkits.mplot3d import axes3d\n",
        "\n",
        "# This command makes our graphs zoom-able & resize-able\n",
        "import plotly.graph_objects as go"
      ],
      "execution_count": null,
      "outputs": []
    },
    {
      "cell_type": "markdown",
      "metadata": {
        "id": "tEWsuLqh2_VG"
      },
      "source": [
        "## 3. Use an if/then/else logic statement\n",
        "Next we need to define a function that extracts a specified range of curves (we'll use this to extract just the Carnot parts of the cycle)."
      ]
    },
    {
      "cell_type": "code",
      "metadata": {
        "collapsed": true,
        "id": "U8eUOrjv2_VG"
      },
      "source": [
        "def extract(V,P,Vstart,Vstop):\n",
        "    if Vstop > Vstart:\n",
        "        index = np.argwhere((V>Vstart) & (V<Vstop))\n",
        "    else:\n",
        "        index = np.argwhere((V<Vstart) & (V>Vstop))\n",
        "    return np.squeeze(V[index]), np.squeeze(P[index])"
      ],
      "execution_count": null,
      "outputs": []
    },
    {
      "cell_type": "markdown",
      "metadata": {
        "id": "MFNgTs0O2_VH"
      },
      "source": [
        "## 4. Define constants for a monatomic, ideal gas\n",
        "Define some properties of our gas and the Carnot cycle. In this exercise, you are using the heat capacity of a monatomic ideal gas. "
      ]
    },
    {
      "cell_type": "code",
      "metadata": {
        "id": "8ZIgp5Xq2_VH"
      },
      "source": [
        "# Gas properties\n",
        "R = 8.314 #Joules per mole per Kelvin\n",
        "n = 1 #mole\n",
        "C_V = 3./2*R*n # This is a monatomic ideal gas\n",
        "print('C_V=',C_V, 'Joules/mol') #Joules / Kelvin\n",
        "c = C_V/(R*n) # This is the \"reduced heat capacity\" for adiabatic reversible expansion\n",
        "print('c =', c)\n",
        "gamma = 1 + 1/c\n",
        "print('gamma =', gamma)\n",
        "\n",
        "# For the Carnot cycle, define the hot/cold reservoirs and the volume arrays that span the four legs\n",
        "T_hot = 400.0\n",
        "T_cold = 300.0\n",
        "V_leg1 = np.linspace(0.01, 0.10, 200)\n",
        "V_leg2 = np.linspace(0.01, 0.10, 200)\n",
        "V_leg3 = np.linspace(0.10, 0.01, 200) # Going backward because we're compressing on these legs\n",
        "V_leg4 = np.linspace(0.10, 0.01, 200) # Going backward because we're compressing on these legs"
      ],
      "execution_count": null,
      "outputs": []
    },
    {
      "cell_type": "markdown",
      "metadata": {
        "id": "9s5OrlW52_VI"
      },
      "source": [
        "## Figure 1 shows an isothermal expansion at $T_{hot}$"
      ]
    },
    {
      "cell_type": "code",
      "metadata": {
        "id": "lyxWrbrz2_VI"
      },
      "source": [
        "# Hot Boyle isotherm\n",
        "P_leg1 = R*T_hot/V_leg1\n",
        "\n",
        "# Graph it using matplotlib\n",
        "plt.figure()\n",
        "plt.plot(V_leg1,P_leg1,'r',label='isothermal expansion at T hot')\n",
        "plt.xlabel ('Volume (m^3)')\n",
        "plt.ylabel('Pressure (Pa)')\n",
        "plt.grid(True)\n",
        "plt.legend()\n",
        "plt.title(\"Figure 1. First leg of Carnot Cycle\")"
      ],
      "execution_count": null,
      "outputs": []
    },
    {
      "cell_type": "markdown",
      "metadata": {
        "id": "y986yMZl2_VJ"
      },
      "source": [
        "## Figure 2 includes an adiabatic expansion while temperature changes from $T_{hot}$ to $T_{cold}$."
      ]
    },
    {
      "cell_type": "code",
      "metadata": {
        "id": "3gNtBjSN2_VJ"
      },
      "source": [
        "# Choose a point on the hot isotherm that we want the adiabat to intersect\n",
        "V_on_hot_isotherm = 0.04\n",
        "P_on_hot_isotherm = R*T_hot/V_on_hot_isotherm\n",
        "\n",
        "# Calculate an adiabat that crosses the hot isotherm at that point\n",
        "P_leg2 = P_on_hot_isotherm*(V_on_hot_isotherm/V_leg2)**gamma # Formula for adiabatic reversible expansion\n",
        "\n",
        "# Graph them together\n",
        "plt.figure()\n",
        "plt.plot(V_leg1,P_leg1,'r',label='isothermal expansion at T hot')\n",
        "plt.plot(V_leg2,P_leg2,'k--',label='adiabatic expansion')\n",
        "plt.grid(True)\n",
        "plt.xlabel ('Volume (m^3)')\n",
        "plt.ylabel('Pressure (Pa)')\n",
        "plt.legend()\n",
        "plt.title(\"Figure 2. First two legs of Carnot cycle\")"
      ],
      "execution_count": null,
      "outputs": []
    },
    {
      "cell_type": "markdown",
      "metadata": {
        "id": "ek-NGTZM2_VJ"
      },
      "source": [
        "## Pause for Analysis Question 1:\n",
        "In adiabatic leg plotted in Figure 2, if you adiabatically & reversibly expand a gas initially at $T_{hot}$ from a volume of $0.04 \\space m^3$, do you expect it to cool down or heat up?  What if you compress it -- will it cool down or heat up? Explain your reasoning."
      ]
    },
    {
      "cell_type": "markdown",
      "metadata": {
        "id": "nEYVcPoY2_VJ"
      },
      "source": [
        "## Figure 3 includes an isothermal compression at $T_{cold}$.\n",
        "Fill in the blanks in the cell below"
      ]
    },
    {
      "cell_type": "code",
      "metadata": {
        "id": "WlilDnAV2_VJ"
      },
      "source": [
        "# Calculate the cold Boyle isotherm (call it \"P_leg3\")\n",
        "\n",
        "# Graph legs 1-3 together on the same plot using matplotlib (abbreviated as plt) and label title as \"Figure 3. First three legs of Carnot cycle\"\n"
      ],
      "execution_count": null,
      "outputs": []
    },
    {
      "cell_type": "markdown",
      "metadata": {
        "id": "Xt_WiveU2_VJ"
      },
      "source": [
        "## Figure 4 includes an adiabatic compression while temperature changes from $T_{cold}$ to $T_{hot}$."
      ]
    },
    {
      "cell_type": "code",
      "metadata": {
        "scrolled": true,
        "id": "Q4-7GXiL2_VK"
      },
      "source": [
        "# Choose a point on the cold isotherm that we want the adiabat to intersect\n",
        "V_on_cold_isotherm = 0.04\n",
        "P_on_cold_isotherm = R*T_cold/V_on_cold_isotherm\n",
        "\n",
        "# Calculate an adiabat that crosses the cold isotherm at that point (call it \"P_leg4\")\n",
        "# Graph legs 1-4 together on the same plot using matplotlib (abbreviated as plt) and label title as \"Figure 4. All four legs of Carnot cycle\"\n"
      ],
      "execution_count": null,
      "outputs": []
    },
    {
      "cell_type": "markdown",
      "metadata": {
        "id": "JPD2TO8MKZXK"
      },
      "source": [
        "##5. Make an interactive plot using PLOTLY\n",
        "It is important to be able to ZOOM and pan across the figure but since we are unable to do that with matplotlib figures, I will provide the code you need to generate an interactive plot (using plotly) that will allow you to answer Pause for Analysis question 2 below."
      ]
    },
    {
      "cell_type": "code",
      "metadata": {
        "id": "M-qpH5jrSsyw"
      },
      "source": [
        "# In this cell, we will make the same graph shown in Figure 4 by using plotly.\n",
        "\n",
        "# Create a list of data\n",
        "figure_data = [\n",
        "    go.Scatter(x=V_leg1, y=P_leg1, name = \"isothermal expansion at T hot\"),\n",
        "    go.Scatter(x=V_leg2, y=P_leg2, name = \"adiabatic expansion\"),\n",
        "    go.Scatter(x=V_leg3, y=P_leg3, name = \"isothermal compression at T cold\"),\n",
        "    go.Scatter(x=V_leg4, y=P_leg4, name = \"adiabatic compression\"),\n",
        "]\n",
        "\n",
        "# Create the figure with the data\n",
        "fig = go.Figure(data=figure_data)\n",
        "\n",
        "# Add title and label x and y axes\n",
        "fig.update_layout(\n",
        "    title=\"Figure 5. All four legs of Carnot Cycle using plotly\",\n",
        "    xaxis_title=\"V (m^3)\",\n",
        "    yaxis_title=\"P (Pascals)\",\n",
        ")\n",
        "fig.show()"
      ],
      "execution_count": null,
      "outputs": []
    },
    {
      "cell_type": "markdown",
      "metadata": {
        "id": "RzCWxcUb2_VK"
      },
      "source": [
        "## Pause for Analysis Question 2.\n",
        "Use the zoom and pan functions in Figure 5 to locate the four points where the four lines intersect. Write the VOLUMES associated with the four points of intersection (Denote as VA = ; VB = ; VC = ; VD = ). You will need these 4 values to write the code in the cell below that will generate a Carnot Cycle plot in Figure 6 (using matplotlib) that is correct / reasonable."
      ]
    },
    {
      "cell_type": "markdown",
      "metadata": {
        "id": "Tw3E6IZ_2_VK"
      },
      "source": [
        "## 6. Make a carnot cycle plot using matplotlib\n",
        "\n",
        "Using your answers above, modify the code below to ensure your Carnot Cycle plot looks correct (each pair of lines must intersect at a single point). You may need to use trial and error, if you cannot figure out which volume should be associated with points A, B, C or D."
      ]
    },
    {
      "cell_type": "code",
      "metadata": {
        "id": "uAyYSkLf2_VK"
      },
      "source": [
        "# Specify the volumes that define the intersections of the Carnot cycle (I suggest using at least 2 sig figs)\n",
        "VA = \n",
        "VB = \n",
        "VC = \n",
        "VD = \n",
        "\n",
        "# Extract the Carnot range of the first leg\n",
        "V_leg1_Carnot, P_leg1_Carnot = extract(V_leg1,P_leg1,VA,VB)\n",
        "\n",
        "# Extract the Carnot range of the second leg\n",
        "V_leg2_Carnot, P_leg2_Carnot = extract(V_leg2,P_leg2,VB,VC)\n",
        "\n",
        "# Extract the Carnot range of the third leg ... you'll need to \"uncomment\" this line (remove hash-tags and space)\n",
        "# V_leg3_Carnot, P_leg3_Carnot = extract(V_leg3,P_leg3,VC,VD)\n",
        "\n",
        "# Extract the Carnot range of the fourth leg ... you'll need to \"uncomment\" this line \n",
        "# V_leg4_Carnot, P_leg4_Carnot = extract(V_leg4,P_leg4,VD,VA)\n",
        "\n",
        "# Graph them all together ... you'll need to \"uncomment\" these lines \n",
        "# plt.figure()\n",
        "# plt.plot(V_leg1_Carnot,P_leg1_Carnot,'r', label='isothermal expansion at T hot')\n",
        "# plt.plot(V_leg2_Carnot,P_leg2_Carnot,'k--', label='adiabatic expansion')\n",
        "# plt.plot(V_leg3_Carnot,P_leg3_Carnot,'b', label='isothermal compression at T cold')\n",
        "# plt.plot(V_leg4_Carnot,P_leg4_Carnot,'k-.',label='adiabatic compression')\n",
        "# plt.grid(True)\n",
        "# plt.xlabel ('Volume (m^3)')\n",
        "# plt.ylabel('Pressure (Pa)')\n",
        "# plt.legend()\n",
        "# plt.title(\"Figure 7. Carnot Cycle with intersecting points\")"
      ],
      "execution_count": null,
      "outputs": []
    },
    {
      "cell_type": "markdown",
      "metadata": {
        "id": "1Lz0k13y2_VK"
      },
      "source": [
        "## Pause for Analysis Question 3. \n",
        "In the cell below, calculate the ratio $V_B/V_A$ and the ratio $V_C/V_D$. Are these two ratios close in magnitude? "
      ]
    },
    {
      "cell_type": "code",
      "metadata": {
        "id": "RgVKrDf-2_VK",
        "colab": {
          "base_uri": "https://localhost:8080/"
        },
        "outputId": "6f8478f4-4805-4738-b872-7140885e7f28"
      },
      "source": [
        "# Calculating and printing the volume ratios (for comparison)\n",
        "print('VB/VA =', VB/VA)\n",
        "print('VC/VD =', VC/VD)"
      ],
      "execution_count": null,
      "outputs": [
        {
          "output_type": "stream",
          "name": "stdout",
          "text": [
            "VB/VA = 1.5427797135114207\n",
            "VC/VD = 1.5332496863237142\n"
          ]
        }
      ]
    },
    {
      "cell_type": "markdown",
      "metadata": {
        "id": "w0OQZCwz2_VL"
      },
      "source": [
        "## 7. Calculate the work associated with the Carnot cycle\n",
        "\n",
        "First, we look at the work for each individual leg"
      ]
    },
    {
      "cell_type": "code",
      "metadata": {
        "id": "LgwzYrr62_VL"
      },
      "source": [
        "# Get the work of each leg (w_leg1, w_leg2, etc)\n",
        "w_leg1 = -np.trapz(P_leg1_Carnot,V_leg1_Carnot); print('w1 =', w_leg1)\n",
        "w_leg2 = ...\n",
        "w_leg3 = ...\n",
        "w_leg4 = ..."
      ],
      "execution_count": null,
      "outputs": []
    },
    {
      "cell_type": "markdown",
      "metadata": {
        "id": "f-u2XdLK2_VL"
      },
      "source": [
        "## Pause for Analysis Question 4a. \n",
        "For the second leg of the Carnot cycle, determine whether work was done *by* the system *on* the surroundings, or vice versa (the sign of $w$ tells you the correct answer). \n",
        "\n",
        "## Pause for Analysis Question 4b. \n",
        "For the third leg of the Carnot cycle, determine whether work was done *by* the system *on* the surroundings, or vice versa (the sign of $w$ tells you the correct answer). \n",
        "\n",
        "## Pause for Analysis Question 5. \n",
        "For the entire Carnot cycle, was work was done by the system on the surroundings, or vice versa? To answer this question, use the code provided below."
      ]
    },
    {
      "cell_type": "markdown",
      "metadata": {
        "id": "1h4yeKxB2_VL"
      },
      "source": [
        "Now, let's get the total work by adding up the four legs (Eq. 7; you can use the code below, but you will need to un-comment it)."
      ]
    },
    {
      "cell_type": "code",
      "metadata": {
        "id": "jEJFMvLC2_VL"
      },
      "source": [
        "# w_tot = w_leg1+w_leg2+w_leg3+w_leg4\n",
        "# print(w_tot)"
      ],
      "execution_count": null,
      "outputs": []
    },
    {
      "cell_type": "markdown",
      "metadata": {
        "id": "ezwv9Cki2_VL"
      },
      "source": [
        "## 8. Efficiency of Carnot cycle\n",
        "Now we want to calculate the efficiency of our heat engine. "
      ]
    },
    {
      "cell_type": "code",
      "metadata": {
        "id": "29Td-6o52_VL"
      },
      "source": [
        "# Calculate & print q_hot from the work done on that leg (Eq. 8)\n",
        "\n",
        "\n",
        "# Calculate & print the actual efficiency of the heat engine (based on the heat and work, Eq. 9)\n"
      ],
      "execution_count": null,
      "outputs": []
    },
    {
      "cell_type": "markdown",
      "metadata": {
        "id": "zXl5OREz2_VM"
      },
      "source": [
        "Next, we're going to get some theoretical results for comparison. The first is the theoretical value of the heat extracted from the hot reservoir during leg 1. "
      ]
    },
    {
      "cell_type": "code",
      "metadata": {
        "id": "XPxEs8le2_VM"
      },
      "source": [
        "# Calculate & print the theoretical q_hot from Eq. 10\n"
      ],
      "execution_count": null,
      "outputs": []
    },
    {
      "cell_type": "code",
      "metadata": {
        "id": "sNoGUJI52_VM"
      },
      "source": [
        "# Now calculate & print the theoretical efficiency (based on the temperatures of the reservoirs) from Eq. 11\n"
      ],
      "execution_count": null,
      "outputs": []
    },
    {
      "cell_type": "markdown",
      "metadata": {
        "id": "nUsrEoC02_VM"
      },
      "source": [
        "## Pause for Analysis Question 6. \n",
        "How well do the theoretical and numerical values of $\\varepsilon$ agree?\n",
        "<br>In your own words, explain why people are interested in the quantity  𝜀=−$𝑤_{𝑡𝑜𝑡}/𝑞_{ℎ𝑜𝑡}$  .</br>"
      ]
    },
    {
      "cell_type": "markdown",
      "metadata": {
        "id": "ysZKqe-iSTC4"
      },
      "source": [
        "## Pause for Analysis Question 7\n",
        "\n",
        "Based on your experience completing the Python program, write a three-sentence explanation for a general chemistry student describing what a Carnot heat engine is. Incorporate these vocabulary words (Carnot cycle, indicator diagram, closed thermodynamic cycle, adiabat, and engine efficiency) without completely overwhelming the 1st year student.\n",
        "\n",
        "## Pause for Analysis Question 8\n",
        "\n",
        "Consider how the picture of the Carnot Cycle would change (or not change) if you have a diatomic ideal gas instead of a monatomic ideal gas? \n",
        "\n",
        "\n",
        "## Sample Python question that might be on Midterm 1:\n",
        "How would your code and equations change if you have a van der Waals gas instead of an ideal gas? Specifically, try running the calculations above for N2 (diatomic nitrogen) using the van der Waals gas constants_a_ and _b_ given in Problem Set 1 (or see Quiz 1)."
      ]
    },
    {
      "cell_type": "code",
      "metadata": {
        "id": "_i_z1lzCc0xz"
      },
      "source": [
        ""
      ],
      "execution_count": null,
      "outputs": []
    },
    {
      "cell_type": "markdown",
      "metadata": {
        "id": "sYwDSwtP2_VM"
      },
      "source": [
        "## Grading and next steps:  \n",
        "\n",
        "Like last week, I will be looking for evidence of your mastery of the computational methods embedded in this exercise in google colaboratory: whether the notebook is complete and your results accurate.\n",
        "\n"
      ]
    }
  ]
}