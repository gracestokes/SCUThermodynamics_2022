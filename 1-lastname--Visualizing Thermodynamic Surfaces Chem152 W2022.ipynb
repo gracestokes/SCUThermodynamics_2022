{
 "cells": [
  {
   "cell_type": "markdown",
   "metadata": {
    "id": "XA8Galt2hgJM"
   },
   "source": [
    "# Visualizing Thermodynamic Surfaces\n",
    "\n",
    "Written by Dr. Steven Neshyba (University of Puget Sound) and Dr. Timothy Guasco (Millikin University)\n",
    "<br><i>Adapted for Chem 152 at Santa Clara University by Dr. Grace Stokes (with help from Dr. Jessica Nash, [MolSSI](https://molssi.org))</i></br>\n",
    "\n",
    "## Learning Objectives: \n",
    "1. Use Python graphics to visualize differences in pressures for van der Waals versus ideal gases.\n",
    "2. Be able to define the terms <em>state function</em>, <em>equation of state</em>,<em>thermodynamic variable</em>, <em>thermodynamic surface</em>, <em>isochore</em>, and <em>isotherm</em>, with examples.\n",
    "3. Describe what the python function <em>meshgrid</em> does and how it is different from the python function <em>linspace</em>.\n"
   ]
  },
  {
   "cell_type": "markdown",
   "metadata": {
    "id": "uh9nhN0OhgJP"
   },
   "source": [
    "## 1. Reminders from Chem 50, 151 or your other Python exercises (ex. Bio 1C with McCully):\n",
    "\n",
    "### Why do we use Python? \n",
    "Python is a widely used, open source programming language developed by Guido van Rossum. It was first released in 1991. Python is a great language for beginner programmers because it was designed with the newcomer in mind. Python was designed to be readable and it has a simple and consistent syntax. Additionally, Python has a very extensive section of mathematical and scientific libraries. These libraries contain code that has already been written to perform specific tasks so you just need to know how to call the library rather than write the code itself. Therefore, Python is commonly used in chemistry and biochemistry research labs.\n",
    "\n",
    "### Why the hashtags (#)? \n",
    "You will see the pound symbol (#) a few times in the cells below. This symbol is used to indicate a _comment_. When you use the pound symbol, everything to the right of it on the same line is ignored by Python.\n",
    "\n",
    "### What if I don't finish my Notebook or try to work on it later this afternoon or tomorrow?\n",
    "<i>Something you will notice about Python is that when you hit \"SHIFT-ENTER\" or the \"PLAY\" button on the left side of a cell, the Python notebook only executes the current code block. This can have several unintended consequences. If you change a value and then go back and run an earlier code block, it will use the new value, not the first defined value, which may give you incorrect analysis. \n",
    "Similarly, if you open your notebook later, and try to run a code block in the middle, it may tell you that your variables are undefined, even though you can clearly see them defined in earlier code blocks. But if you didn’t re-run those code blocks, then Python doesn’t know they exist. It is a good habit to start over from the top of the Notebook and execute each cell if you leave and come back to work on it.</i></br>"
   ]
  },
  {
   "cell_type": "markdown",
   "metadata": {
    "id": "Jlzndp2ThgJP"
   },
   "source": [
    "## 2. Introduction to Thermodynamics\n",
    "\n",
    "An _equation of state_ is any algebraic expression that relates\n",
    "thermodynamic variables to one another. You’re probably familiar with the\n",
    "equation of state for an ideal gas, written algebraically as $PV=nRT$.\n",
    "Here, the pressure, volume, and temperature are thermodynamic variables; _n_\n",
    "tells you how much of the gas there is, and _R_ is the gas constant. It’s\n",
    "clear from this equation that once we know any two thermodynamic\n",
    "variables, we can get the third, e.g.,\n",
    "\n",
    "<p style='text-align: right;'>\n",
    "$ P(V,T) = \\dfrac{n R T}{V} (ideal \\space gas)$\n",
    "$\\qquad\\qquad\\qquad\\qquad\\qquad\\qquad\\qquad\\qquad\\qquad  (1) $\n",
    "</p>\n",
    "\n",
    "In the equation shown, temperature (T) and volume (V) are the <i>independent variables</i> while pressure (P) is the <i>dependent variable</i>. As written, we can define a two-dimensional <i>state space</i>. Equation 1 can be thought of geometrically as the surface of a three dimensional object, or a <i>thermodynamic surface</i>, which is shown in Figure 1."
   ]
  },
  {
   "cell_type": "markdown",
   "metadata": {
    "id": "VqG05oZ1hgJR"
   },
   "source": [
    "<p style='text-align: center;'>\n",
    "<img src=\"https://www.nms.ac.uk/media/1154693/t1999385.jpg\" height=\"300\" width=\"300\"/>\n",
    "\n",
    "__Figure 1__. James Clerk Maxwell famously made plaster models of thermodynamic surfaces, and gave one as a present to Josiah Willard Gibbs$^1$.\n",
    "</p>"
   ]
  },
  {
   "cell_type": "markdown",
   "metadata": {
    "id": "9akALvjVhgJR"
   },
   "source": [
    "In order to visualize what the 3-D thermodynamic surface <i>P(V,T)</i> of an ideal gas looks like, one approach is to imagine how pressure behaves as a function of each variable (V or T) separately. That is exactly what early investigators did. \n",
    "\n",
    "Boyle-Hooke (P versus V): Two 17th century British scientists, Robert Boyle and Robert Hooke, found that when the volume of a gas is changed isothermally (constant temperature), the gas pressure varies inversely with volume. \n",
    "\n",
    "Gay-Lussac (P versus T): A century and a half later, French chemist Gay-Lussac reported that when the temperature of a gas is changed isochorically (constant volume), the pressure increases in direct proportion to the temperature. \n",
    "\n",
    "By combining Gay-Lussac's, Boyle's and Hooke's observations, we can derive the mathematical relationships shown in Eq. 1. To visualize <i>P(V,T)</i> in three dimensions, instead of using plaster, we are going to use Python!"
   ]
  },
  {
   "cell_type": "markdown",
   "metadata": {
    "id": "GgKpZRMdhgJS"
   },
   "source": [
    "Eq. 1 requires a number of assumptions (see pre-class question #3). \n",
    "\n",
    "Under certain physical conditions (high temperature, low pressure), Eq. 1 provides a pretty good approximation of pressure, but under other physical conditions (low temperature, high pressure), large deviations from the measured pressure are observed. \n",
    "\n",
    "Despite these deviations, it turns out that the way a real gas differs from ideal-gas behavior can reveal important information about the gas molecules! \n",
    "\n",
    "A formula derived by van der Waals$^2$, \n",
    "\n",
    "<p style='text-align: right;'>\n",
    "$ P(V,T) = \\dfrac{n R T}{V-nb} -\\dfrac{an^2}{V^2} (van \\space der \\space Waals \\space gas) $\n",
    "$\\qquad\\qquad\\qquad\\qquad\\qquad\\qquad\\qquad\\qquad\\qquad  (2) $\n",
    "</p>\n",
    "\n",
    "is a kind of compromise: it is not quite as elegant (or at least simple) as the ideal gas equation of state, but it has the great advantage that it describes real gases much better, because parameters _a_ and _b_ are adjusted for each gas."
   ]
  },
  {
   "cell_type": "markdown",
   "metadata": {
    "id": "PZ5dB7LzhgJS"
   },
   "source": [
    "If you’re interested in the error (difference) between these two ways of describing a gas, the formula is\n",
    "\n",
    "<p style='text-align: right;'>\n",
    "$ \\%error = \\dfrac{P_{ideal}-P_{vdw}}{P_{vdw}}x100 $\n",
    "$\\qquad\\qquad\\qquad\\qquad\\qquad\\qquad\\qquad\\qquad\\qquad  (3) $\n",
    "</p>\n",
    "\n",
    "\n",
    "This formula assumes the van der Waals (vdW) result is more accurate, which is generally accepted to be the case.\n",
    "\n",
    "In this computational lab, you will use Python to generate a 3D plot to visualize differences in pressures for ideal gases versus van der Waals gases."
   ]
  },
  {
   "cell_type": "markdown",
   "metadata": {
    "id": "zsJWfSPXhgJS"
   },
   "source": [
    "## References\n",
    "(1) Check out this artifact of science history at an art museum in Scotland: https://www.nms.ac.uk/explore-our-collections/stories/science-and-technology/james-clerk-maxwell-inventions/james-clerk-maxwell/thermodynamic-surface/\n",
    "<br>(2) List of vdW constants that will be useful in this exercise: https://en.wikipedia.org/wiki/Van_der_Waals_constants_%28data_page%29 </br>"
   ]
  },
  {
   "cell_type": "markdown",
   "metadata": {
    "id": "ADuduUhDhgJT"
   },
   "source": [
    "## 3. Import Libraries  \n",
    "You'll need to import various libraries for numerical operations and graphics. In the cell immediately below, you will need to execute this cell with shift-enter or by left-clicking the \"play button\" to the left. This command installs plotly, a library that can be used for making 3-D graphs"
   ]
  },
  {
   "cell_type": "code",
   "execution_count": null,
   "metadata": {
    "id": "JfPbbzmo0bhL"
   },
   "outputs": [],
   "source": [
    "pip install plotly"
   ]
  },
  {
   "cell_type": "code",
   "execution_count": null,
   "metadata": {
    "id": "BRx2SHsRhgJT"
   },
   "outputs": [],
   "source": [
    "# Execute this cell with shift-enter or by left-clicking the \"play button\" to the left. \n",
    "# This cell imports various libraries and packages that we will need\n",
    "# numpy is used for numerical operations\n",
    "import numpy as np\n",
    "\n",
    "# like plotly, matplotlib.pyplot is used to make simple 2-D plots.\n",
    "import matplotlib.pyplot as plt\n",
    "\n",
    "# This command makes 3-d plots using matplotlib but in google colaboratory, we are unable to zoom and re-size or interact with these 3-d plots.\n",
    "from mpl_toolkits.mplot3d import axes3d\n",
    "\n",
    "# This command makes our graphs zoom-able & resize-able\n",
    "import plotly.graph_objects as go"
   ]
  },
  {
   "cell_type": "markdown",
   "metadata": {
    "id": "mS0NxIaqhgJT"
   },
   "source": [
    "## 4. Extra practice for those who have limited Python experience\n",
    "\n",
    "1. It should be noted that Python follows the standard order of operations that you learned in math class. \n",
    "2. When we want to work with numbers, we will use either integers or floating point numbers. Integers are whole numbers. Floating point numbers are ones where the number of figures to the right of the decimal varies based upon the value of the floating point number. If a whole number is written with no decimal point then Python treats it as an integer. If a number is written with a decimal point then Python treats it as a floating point number. \n",
    "3. We can easily perform the 4 basic mathematical operations using Python. We can also use exponents quite easily, though the syntax might be different than what you are used to. See the mathematical operations listed below and compare the results to what you would expect from a calculator or when you do the math with pencil and paper.\n",
    "\n",
    "\n"
   ]
  },
  {
   "cell_type": "code",
   "execution_count": null,
   "metadata": {
    "id": "MyqIcilnjC_X"
   },
   "outputs": [],
   "source": [
    "# Addition\n",
    "print(5 + 10) #integer\n",
    "print(5.0 + 10.0) #floating point\n",
    "#Subtraction\n",
    "print(10 - 5)\n",
    "#Multiplication\n",
    "print(5 * 9)\n",
    "#Division\n",
    "print(5 / 2)\n",
    "#Calculate 5 squared\n",
    "print(5**2) #Double asterisks (*) are used to represent an exponent\n",
    "#Exponentials can we written two different ways\n",
    "print(\"e^5 is\", np.exp(5))\n",
    "x=5\n",
    "print(\"e^x is\", np.exp(x))"
   ]
  },
  {
   "cell_type": "markdown",
   "metadata": {
    "id": "QHVX2DCfjmdo"
   },
   "source": [
    "## 4a. Pause for Analysis #1: \n",
    "To help you review your Python skills, use the cell below to compute the value of the polynomial  $y = ax^3 + bx^2 + cx+d$ at $x = 2$ using $a = 3$, $b = 1$, $c = -3$, and $d = -5$. Then print the value of the variable $y$."
   ]
  },
  {
   "cell_type": "code",
   "execution_count": null,
   "metadata": {
    "id": "hf_6KUxEjtl8"
   },
   "outputs": [],
   "source": [
    "# Assign the constants a-d\n",
    "\n",
    "# Assign a value to x\n",
    "\n",
    "# Calculate y using the variables a-d (don't re-enter the values!)\n",
    "\n",
    "# Print y"
   ]
  },
  {
   "cell_type": "markdown",
   "metadata": {
    "id": "J769aq9UvUeB"
   },
   "source": [
    "## 4b. How to enter an array of numbers\n",
    "\n",
    "So far we have discussed variables just having a single value, but often times we want to repeatedly perform a calculation on an array of numbers. An example of this might be if we wanted to plot the polynomial from the previous cell. Suppose we wanted our plot to cover the range $x = -5$ to $x = 5$. We would need to calculate $y$ at a sufficient number of points (~20) for our plot to be smooth. It would be tedious to input 20 different values of $x$ and perform the calculation one-by-one. Luckily, Python has a few different functions that we can use to create numerical arrays. The one that we will use most frequently is linspace and the cell below introduces this function."
   ]
  },
  {
   "cell_type": "code",
   "execution_count": null,
   "metadata": {
    "id": "dVJV8RiZwwF9"
   },
   "outputs": [],
   "source": [
    "# Generate an array (sequence of points) between -5 and 5; the number of points is 50 by default\n",
    "x = np.linspace(-5,5)\n",
    "print(x)\n",
    "\n",
    "# This generates 10 points between -5 and 5\n",
    "x_10 = np.linspace(-5,5,10)\n",
    "print(x_10)"
   ]
  },
  {
   "cell_type": "markdown",
   "metadata": {
    "id": "noql7JxWxxkn"
   },
   "source": [
    "## 4c. How to plot a function using <i>matplotlib</i>\n",
    "\n",
    "We got started on this endeavor of making arrays because we wanted to plot $y = ax^3 + bx^2 + cx + d$ from $x = -5$ to $x = 5$. Python has a function, conveniently called plt.plot, which makes 2-D plots. The basic syntax of the plot function is (x,y,formatstring). So the first argument is for the horizontal axis, the second argument is for the vertical axis, and the formatstring argument will let you format your plot. For instance, if you want red circle markers you would type 'ro'. You will need to add one line of code to the cell below so that it plots $y = ax^3 + bx^2 + cx + d$ from $x = -5$ to $x = 5$ as a red dash-dot line, and labels the x and y axes. Try it!  "
   ]
  },
  {
   "cell_type": "code",
   "execution_count": null,
   "metadata": {
    "id": "IoLZoCJSx062"
   },
   "outputs": [],
   "source": [
    "# This initializes the plot window\n",
    "plt.figure()\n",
    "y = ...\n",
    "\n",
    "# This plots y as a function of x\n",
    "plt.plot(x,y,'ro-.')\n",
    "plt.xlabel('this is the x-axis')\n",
    "plt.ylabel('y')"
   ]
  },
  {
   "cell_type": "markdown",
   "metadata": {
    "id": "V4G-5luph0pW"
   },
   "source": [
    "# 5. Apply what you've learned to Thermodynamics:\n",
    "\n",
    "## 5a. Change values for variables and constants in the cell below\n",
    "Your next goal is to get Python to calculate the pressure of exactly one mole of an ideal gas and of a van der Waals gas of your choice at T = 300.0 K and V= 25.0 L. Modify the cell below appropriately to do this (if you just hit PLAY or Control-ENTER, you will NOT get the correct values for pressure and will not receive full credit on this exercise). I also suggest you use more than three significant figures for the R value so it does not become the limiting source of error in our calculation. You’ll know you’ve done these calculations right if you get pressures just under 1 atm. "
   ]
  },
  {
   "cell_type": "code",
   "execution_count": null,
   "metadata": {
    "id": "Pz7kafNyhgJU"
   },
   "outputs": [],
   "source": [
    "# Constants related to an ideal gas\n",
    "R = ...  # Liter-atm/mol-K\n",
    "V = ... # Liters\n",
    "T = ... # Kelvin\n",
    "n = 1 # moles\n",
    "\n",
    "# van der Waals constants\n",
    "# What gas is this? See Problem Set 1 #7\n",
    "a = 2.32\n",
    "b = 0.04\n",
    "\n",
    "# Get pressure of an ideal gas\n",
    "P = n*R*T/V\n",
    "print(\"Pressure of ideal gas = \", P, \"atm\")\n",
    "\n",
    "# Get pressure of a vdw gas\n",
    "Pvdw =\n",
    "print(\"Pressure of vdw = \", Pvdw, \"atm\")\n",
    "\n",
    "# Get percent error (using Eq. 3 above)\n",
    "Error = (P-Pvdw)/Pvdw*100\n",
    "print(\"%Error = \", Error)"
   ]
  },
  {
   "cell_type": "markdown",
   "metadata": {
    "id": "Fb-ATn8JhgJU"
   },
   "source": [
    "Next, you're going to generate some Boyle isotherms, P(V) for a given T. You'll need to specify the range of volumes you want to look at. Modify the code below so the volume ranges from 10 to 40 L. "
   ]
  },
  {
   "cell_type": "code",
   "execution_count": null,
   "metadata": {
    "id": "PMFq4XI9hgJU"
   },
   "outputs": [],
   "source": [
    "# Generate a range of volumes\n",
    "V_array = np.linspace(5,100)\n",
    "print(\"There are\", np.shape(V_array), \"points in V\") # shape tells you the length of the array\n",
    "print(V_array)"
   ]
  },
  {
   "cell_type": "markdown",
   "metadata": {
    "id": "ijNXHZdThgJU"
   },
   "source": [
    "Your next goal is to calculate and graph the Boyle isotherm of an ideal gas at this temperature (300.0 K), for this range of volumes. You don't have to enter new values for the temperature or moles, since those values will carry over from the previous cell."
   ]
  },
  {
   "cell_type": "code",
   "execution_count": null,
   "metadata": {
    "id": "xkOUuYffhgJV"
   },
   "outputs": [],
   "source": [
    "# Get an array of pressures for an ideal gas\n",
    "P_array = n*R*T/V_array\n",
    "print(\"There are\", np.shape(P), \"points in P_array\")\n",
    "\n",
    "# Open up a figure window\n",
    "plt.figure()\n",
    "\n",
    "# Graph P(V) using matplotlib\n",
    "plt.plot(V_array,P_array) # Plot the ideal gas Boyle isotherm\n",
    "plt.xlabel('V (L)') # Label the x axis\n",
    "plt.ylabel('P (atm)') # Label the y axis"
   ]
  },
  {
   "cell_type": "code",
   "execution_count": null,
   "metadata": {
    "id": "IyPx3xKk7b8K"
   },
   "outputs": [],
   "source": [
    "# In this cell, we will make the same graph of P(V) using plotly.\n",
    "\n",
    "# Create a list of data\n",
    "figure_data = [\n",
    "    go.Scatter(x=V_array, y=P_array),\n",
    "]\n",
    "\n",
    "# Create the figure with the data\n",
    "fig = go.Figure(data=figure_data)\n",
    "\n",
    "# Add title and label x and y axes\n",
    "fig.update_layout(\n",
    "    title=\"This is a Boyle Isotherm for an Ideal Gas\",\n",
    "    xaxis_title=\"V (L)\",\n",
    "    yaxis_title=\"P (atm)\",\n",
    ")\n",
    "fig.show()"
   ]
  },
  {
   "cell_type": "markdown",
   "metadata": {
    "id": "Hfr6uHYYhgJV"
   },
   "source": [
    "Notice in the cell above that if you hover your mouse over the cell, you will observe a toolbar on the right side which allows you to zoom in, pan, and move the graph around. You can try this now and see how it works. In comparison, you cannot do the same for the matplotlib graph you made above so in this exercise, all your future graphs will be made using <b>plotly</b>.\n",
    "# 5b. Your turn!\n",
    "In the cell below, you will produce a Boyle isotherm of a van der Waals gas at the same temperature and range of volumes using <b>plotly</b>. Add a title and label your axes as I did in the cell above. "
   ]
  },
  {
   "cell_type": "code",
   "execution_count": null,
   "metadata": {
    "id": "ih82FgEshgJV"
   },
   "outputs": [],
   "source": [
    "# Calculate an array of pressures using the van der Waals equation and name it P_vdw\n",
    "# You do NOT need to re-import the variables R, V_array, T or n as those values will carry over from previous cells as long as you executed them during this session\n",
    "\n",
    "\n",
    "# Create a list of data\n",
    "\n",
    "\n",
    "# Create figure of P_vdw as a function of V\n",
    "\n",
    "\n",
    "# Add title and label x and y axes\n",
    "\n"
   ]
  },
  {
   "cell_type": "markdown",
   "metadata": {
    "id": "yMQBvueChgJW"
   },
   "source": [
    "You'll notice that the ideal gas and van der Waals graphs are pretty similar, but they're not identical. To explore the differences, print the %error in the pressure (like what you did in the 1st cell, but now you should see results for a range of volumes since your volume values are arrays). "
   ]
  },
  {
   "cell_type": "code",
   "execution_count": null,
   "metadata": {
    "id": "ed245YOyhgJW"
   },
   "outputs": [],
   "source": [
    "# Calculate the %error and call it Error_array\n",
    "\n",
    "# Print the %error\n"
   ]
  },
  {
   "cell_type": "markdown",
   "metadata": {
    "id": "kco9_J6_hgJW"
   },
   "source": [
    "## Pause for Analysis #2a:\n",
    "When you print the list of values, the first values are associated with the smallest x values (in this case these are the lowest molar volumes). Does the error get worse at high or low molar volume? Recall that molar volume is the volume for one mole of a gas.\n",
    "\n",
    "Answer:\n",
    "\n",
    "## Pause for Analysis #2b:\n",
    "What is the physical cause of this trend you described in Question 1? What is the mathematical cause? \n",
    "\n",
    "Answer:"
   ]
  },
  {
   "cell_type": "markdown",
   "metadata": {
    "id": "AYfw7dc6hgJW"
   },
   "source": [
    "Next, generate grids of volume and temperature (this defines the state space). Modify the code below so that the temperature ranges from 250 to 350 K, and the volume ranges from 10 to 40 L."
   ]
  },
  {
   "cell_type": "code",
   "execution_count": null,
   "metadata": {
    "id": "mEMnKRTHhgJX"
   },
   "outputs": [],
   "source": [
    "V_array = np.linspace(0,60)\n",
    "T_array = np.linspace(200,500)\n",
    "V_grid, T_grid = np.meshgrid(V_array,T_array) # Make a grid covering every V & T combination \n",
    "print(\"There are\", np.shape(V_grid), \"points in V\")\n",
    "print(\"There are\", np.shape(T_grid), \"points in T\")"
   ]
  },
  {
   "cell_type": "markdown",
   "metadata": {
    "id": "iB8ms6AHhgJX"
   },
   "source": [
    "Now you will calculate and graph the thermodynamic surface $P(V,T)$ for an ideal gas using <b>plotly</b>"
   ]
  },
  {
   "cell_type": "code",
   "execution_count": null,
   "metadata": {
    "id": "__uBnUSVhgJX"
   },
   "outputs": [],
   "source": [
    "# Get pressure grid of ideal gas for every point on the grid\n",
    "P_surface = n*R*T_grid/V_grid\n",
    "print(\"There are\", np.shape(P_surface), \"points in P_surface\")\n",
    "\n",
    "# Graph the pressure using plotly\n",
    "figure_data = [\n",
    "               go.Surface(z=P_surface, x=V_grid, y=T_grid),\n",
    "]\n",
    "\n",
    "# Create the figure with the data\n",
    "fig = go.Figure(data=figure_data)\n",
    "\n",
    "# Add title and label axes\n",
    "fig.update_layout(title = 'This 3-D plot shows how P varies with V and T for an Ideal Gas',\n",
    "                  scene = dict(\n",
    "                    xaxis_title='V (L)',\n",
    "                    yaxis_title='T (K)',\n",
    "                    zaxis_title='Ideal Gas Pressure (atm)'),\n",
    "                    )\n",
    "fig.show()"
   ]
  },
  {
   "cell_type": "markdown",
   "metadata": {
    "id": "vJo9tJCOhgJX"
   },
   "source": [
    "After you complete the graph, try zooming in and out and turning the graph upside down.\n",
    "\n",
    "## Pause for Analysis Question #3: \n",
    "a. Describe the relationship between P versus T in your 3-D plot. Does T increase or decrease as pressure increases? Does it change linearly or exponentially? Does this relationship represent Boyle-Hooke's law or Gay-Lussac's law? Would you call this 2-D plot an isochore or an isotherm?\n",
    "\n",
    "Answer:\n",
    "\n",
    "b. Describe the relationship between P versus V in your 3-D plot. Does V increase or decrease as pressure increases? Does it change linearly or exponentially? Does this relationship represent Boyle-Hooke's law or Gay-Lussac's law? Would you call this 2-D plot an isochore or an isotherm?\n",
    "\n",
    "Answer:"
   ]
  },
  {
   "cell_type": "markdown",
   "metadata": {
    "id": "QGXuzAxohgJY"
   },
   "source": [
    "Now you will make an analogous 3D thermodynamic surface using the van der Waals equation."
   ]
  },
  {
   "cell_type": "code",
   "execution_count": null,
   "metadata": {
    "id": "XaJQ_4e3hgJY"
   },
   "outputs": [],
   "source": [
    "# Get pressure grid of van der Waals gas (P_vdw_3D) for every point on the grid\n",
    "# You do NOT need to re-import the variables R, T, n, etc. as those values will carry over from previous cells as long as you executed them during this session\n",
    "\n",
    "\n",
    "# Graph the pressure using plotly\n",
    "\n",
    "\n",
    "# Add title and label axes\n",
    "\n"
   ]
  },
  {
   "cell_type": "markdown",
   "metadata": {
    "id": "wYMiLxtGhgJY"
   },
   "source": [
    "You’ll notice that the thermodynamic surfaces for an ideal gas and a vdw gas are barely distinguishable from each other. For that reason, it's useful to look at the % difference between them. "
   ]
  },
  {
   "cell_type": "code",
   "execution_count": null,
   "metadata": {
    "id": "-znlG4llhgJY"
   },
   "outputs": [],
   "source": [
    "# Calculate the %error over the entire grid\n",
    "\n",
    "\n",
    "# Print the % error\n",
    "\n",
    "\n",
    "# Graph the %error in 3D using plotly\n",
    "\n",
    "\n",
    "# Add title and label axes\n",
    "\n"
   ]
  },
  {
   "cell_type": "markdown",
   "metadata": {
    "id": "zNbSNNp_hgJY"
   },
   "source": [
    "## Pause for Analysis Question #4: \n",
    "\n",
    "(write answers to this question by double-clicking on this cell and answering below)\n",
    "\n",
    "a. Based on the 3d graph of the % error you just made, describe how the error changes 1) as volume increases and 2) as temperature increases.\n",
    "\n",
    "b. Explain in molecular terms why these trends do or do not make sense based on kinetic molecular theory.\n",
    "\n",
    "Answer:\n"
   ]
  },
  {
   "cell_type": "markdown",
   "metadata": {
    "id": "M2vVWMFKpQzZ"
   },
   "source": [
    "## Pause for Analysis Question #5:\n",
    "\n",
    "Describe your experience completing this exercise. Was it easy, hard, confusing, fun, challenging, time-consuming, stimulating, detailed, tedious?\n",
    "\n",
    "Answer:"
   ]
  },
  {
   "cell_type": "markdown",
   "metadata": {
    "id": "Ibr7SAj7hgJZ"
   },
   "source": [
    "## Grading of the Python exercise: \n",
    "In addition to answering the five \"Pause for Analysis\" questions listed above, you will receive full points allotted to this assignment, by ensuring that the notebook is complete and your results accurate.\n",
    "\n",
    "I will be looking for evidence of your mastery of the computational methods embedded in this exercise in google colaboratory. If you have any questions about what satisfactory work entails, please don't hestitate to come see Dr. Stokes at Office Hours. Deadline for this exercise is listed on CAMINO (1 pm on the day of the first quiz)."
   ]
  },
  {
   "cell_type": "code",
   "execution_count": null,
   "metadata": {
    "id": "rmguZlMchgJZ"
   },
   "outputs": [],
   "source": []
  }
 ],
 "metadata": {
  "colab": {
   "collapsed_sections": [],
   "name": "1-lastname--Visualizing Thermodynamic Surfaces Chem152 W2022.ipynb",
   "provenance": [
    {
     "file_id": "1e-CjDyE6WR2GzyjS7XWAVaX7MSUwMFdC",
     "timestamp": 1610476919808
    },
    {
     "file_id": "1S6lNnHZ-9mLD3f7k5xGHOU0oVtpLoGD7",
     "timestamp": 1610462423904
    },
    {
     "file_id": "1f-DcHYwCs7garjGOS2ND1ipzbuDqHiUj",
     "timestamp": 1610404857273
    },
    {
     "file_id": "1XE_N5RoXXSJn2vgGm1kHz0yGRFBvS3Mt",
     "timestamp": 1610341173351
    },
    {
     "file_id": "1uoMg1QF5KS3cTR2btehyr2WReMAL9UGc",
     "timestamp": 1610072948740
    },
    {
     "file_id": "1gNiQAcsWYvef3bHJjKcLfSAFsVrR9iVR",
     "timestamp": 1609614921029
    }
   ]
  },
  "kernelspec": {
   "display_name": "Python 3 (ipykernel)",
   "language": "python",
   "name": "python3"
  },
  "language_info": {
   "codemirror_mode": {
    "name": "ipython",
    "version": 3
   },
   "file_extension": ".py",
   "mimetype": "text/x-python",
   "name": "python",
   "nbconvert_exporter": "python",
   "pygments_lexer": "ipython3",
   "version": "3.9.7"
  }
 },
 "nbformat": 4,
 "nbformat_minor": 1
}
